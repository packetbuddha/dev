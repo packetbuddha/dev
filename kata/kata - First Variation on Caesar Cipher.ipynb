{
 "cells": [
  {
   "cell_type": "code",
   "execution_count": 3,
   "metadata": {
    "collapsed": false
   },
   "outputs": [],
   "source": [
    "def moving_shift(string, shift):\n",
    "    x = 0\n",
    "    step = len(string)/5\n",
    "    if step \n",
    "    print step\n",
    "    for i in range(5):\n",
    "        print string[x:step]\n",
    "        x = x + step\n",
    "        step = step + step\n",
    "        \n",
    "\n",
    "def demoving_shift(strings, shift):\n",
    "    pass"
   ]
  },
  {
   "cell_type": "code",
   "execution_count": 4,
   "metadata": {
    "collapsed": false
   },
   "outputs": [
    {
     "name": "stdout",
     "output_type": "stream",
     "text": [
      "13\n",
      "I should have\n",
      " known that y\n",
      " a perfect an\n",
      "\n",
      "\n"
     ]
    }
   ],
   "source": [
    "moving_shift(\"I should have known that you would have a perfect answer for me!!!\", 1)"
   ]
  },
  {
   "cell_type": "markdown",
   "metadata": {},
   "source": [
    "[\"J vltasl rlhr \", \"zdfog odxr ypw\", \" atasl rlhr p \", \"gwkzzyq zntyhv\", \" lvz wp!!!\"])"
   ]
  }
 ],
 "metadata": {
  "kernelspec": {
   "display_name": "Python 2",
   "language": "python",
   "name": "python2"
  },
  "language_info": {
   "codemirror_mode": {
    "name": "ipython",
    "version": 2
   },
   "file_extension": ".py",
   "mimetype": "text/x-python",
   "name": "python",
   "nbconvert_exporter": "python",
   "pygments_lexer": "ipython2",
   "version": "2.7.9"
  }
 },
 "nbformat": 4,
 "nbformat_minor": 0
}
