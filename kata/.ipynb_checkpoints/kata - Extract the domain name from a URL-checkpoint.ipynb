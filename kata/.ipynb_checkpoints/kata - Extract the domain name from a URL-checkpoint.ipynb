{
 "cells": [
  {
   "cell_type": "code",
   "execution_count": 1,
   "metadata": {
    "collapsed": false
   },
   "outputs": [],
   "source": [
    "import re"
   ]
  },
  {
   "cell_type": "code",
   "execution_count": 2,
   "metadata": {
    "collapsed": true
   },
   "outputs": [],
   "source": [
    "url = \"http://github.com/carbonfive/raygun\""
   ]
  },
  {
   "cell_type": "code",
   "execution_count": 199,
   "metadata": {
    "collapsed": false
   },
   "outputs": [],
   "source": [
    "def domain_name(url):\n",
    "#    x = re.match( r'(.*://)?(w+)?(\\.+)?(\\w+)', url)\n",
    "#    x = re.match( r'(https?://)?(w+)?(\\.+)?(\\w+)', url)\n",
    "#    print url.split(\"//\")[-1].split(\"www.\")[-1].split(\".\")[0]\n",
    "    print url.split(\"//\")[-1]\n",
    "    \n",
    "    "
   ]
  },
  {
   "cell_type": "code",
   "execution_count": 200,
   "metadata": {
    "collapsed": false
   },
   "outputs": [
    {
     "name": "stdout",
     "output_type": "stream",
     "text": [
      "github.com/carbonfive/raygun\n",
      "www.zombie-bites.com\n",
      "www.cnet.com\n",
      "www.xakep.ru\n"
     ]
    }
   ],
   "source": [
    "domain_name(\"http://github.com/carbonfive/raygun\")\n",
    "domain_name(\"http://www.zombie-bites.com\")\n",
    "domain_name(\"https://www.cnet.com\")\n",
    "domain_name(\"www.xakep.ru\")\n"
   ]
  },
  {
   "cell_type": "code",
   "execution_count": null,
   "metadata": {
    "collapsed": true
   },
   "outputs": [],
   "source": []
  }
 ],
 "metadata": {
  "kernelspec": {
   "display_name": "Python 2",
   "language": "python",
   "name": "python2"
  },
  "language_info": {
   "codemirror_mode": {
    "name": "ipython",
    "version": 2
   },
   "file_extension": ".py",
   "mimetype": "text/x-python",
   "name": "python",
   "nbconvert_exporter": "python",
   "pygments_lexer": "ipython2",
   "version": "2.7.9"
  }
 },
 "nbformat": 4,
 "nbformat_minor": 0
}
