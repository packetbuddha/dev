{
 "cells": [
  {
   "cell_type": "code",
   "execution_count": 164,
   "metadata": {
    "collapsed": false
   },
   "outputs": [
    {
     "ename": "SyntaxError",
     "evalue": "invalid syntax (<ipython-input-164-25b65e6b3a85>, line 27)",
     "output_type": "error",
     "traceback": [
      "\u001b[0;36m  File \u001b[0;32m\"<ipython-input-164-25b65e6b3a85>\"\u001b[0;36m, line \u001b[0;32m27\u001b[0m\n\u001b[0;31m    for i in range(rstart,rend)\u001b[0m\n\u001b[0m                               ^\u001b[0m\n\u001b[0;31mSyntaxError\u001b[0m\u001b[0;31m:\u001b[0m invalid syntax\n"
     ]
    }
   ],
   "source": [
    "def done_or_not(board): #board[i][j]\n",
    "    row = [1,2,3,4,5,6,7,8,9]\n",
    "\n",
    "    # check the rows\n",
    "    for r in board:\n",
    "        x = r[:]\n",
    "        x.sort()\n",
    "        if x != row:\n",
    "            return 'Try again!'\n",
    "    print 'Rows look good!'\n",
    "\n",
    "    # check the columns\n",
    "    for c in range(0,9):\n",
    "        tmp = []\n",
    "        for r in board:\n",
    "            tmp.append(r[c])\n",
    "        tmp.sort()\n",
    "        if tmp != row:\n",
    "            return 'Try again!'\n",
    "    print 'Columns look good!'\n",
    "\n",
    "    # check the regions\n",
    "    for r in board:\n",
    "        rstart = 0\n",
    "        rend = 2\n",
    "        rtmp = []\n",
    "        for i in range(rstart,rend)\n",
    "            \n",
    "    \n",
    "    \n",
    "    return 'Finished!'\n"
   ]
  },
  {
   "cell_type": "code",
   "execution_count": null,
   "metadata": {
    "collapsed": true
   },
   "outputs": [],
   "source": [
    "done_or_not([[1, 3, 2, 5, 7, 9, 4, 6, 8]\n",
    "            ,[4, 9, 8, 2, 6, 1, 3, 7, 5]\n",
    "            ,[7, 5, 6, 3, 8, 4, 2, 1, 9]\n",
    "            ,[6, 4, 3, 1, 5, 8, 7, 9, 2]\n",
    "            ,[5, 2, 1, 7, 9, 3, 8, 4, 6]\n",
    "            ,[9, 8, 7, 4, 2, 6, 5, 3, 1]\n",
    "            ,[2, 1, 4, 9, 3, 5, 6, 8, 7]\n",
    "            ,[3, 6, 5, 8, 1, 7, 9, 2, 4]\n",
    "            ,[8, 7, 9, 6, 4, 2, 1, 5, 3]])"
   ]
  },
  {
   "cell_type": "code",
   "execution_count": 163,
   "metadata": {
    "collapsed": true
   },
   "outputs": [
    {
     "name": "stdout",
     "output_type": "stream",
     "text": [
      "So far so good...\n"
     ]
    },
    {
     "data": {
      "text/plain": [
       "'Finished!'"
      ]
     },
     "execution_count": 163,
     "metadata": {},
     "output_type": "execute_result"
    }
   ],
   "source": [
    "done_or_not([[1, 2, 3, 4, 5, 6, 7, 8, 9], [2, 3, 4, 5, 6, 7, 8, 9, 1], [3, 4, 5, 6, 7, 8, 9, 1, 2], [4, 5, 6, 7, 8, 9, 1, 2, 3], [5, 6, 7, 8, 9, 1, 2, 3, 4], [6, 7, 8, 9, 1, 2, 3, 4, 5], [7, 8, 9, 1, 2, 3, 4, 5, 6], [8, 9, 1, 2, 3, 4, 5, 6, 7], [9, 1, 2, 3, 4, 5, 6, 7, 8]])"
   ]
  },
  {
   "cell_type": "markdown",
   "metadata": {},
   "source": [
    "This is test"
   ]
  },
  {
   "cell_type": "code",
   "execution_count": null,
   "metadata": {
    "collapsed": false
   },
   "outputs": [],
   "source": []
  }
 ],
 "metadata": {
  "kernelspec": {
   "display_name": "Python 2",
   "language": "python",
   "name": "python2"
  },
  "language_info": {
   "codemirror_mode": {
    "name": "ipython",
    "version": 2
   },
   "file_extension": ".py",
   "mimetype": "text/x-python",
   "name": "python",
   "nbconvert_exporter": "python",
   "pygments_lexer": "ipython2",
   "version": "2.7.9"
  }
 },
 "nbformat": 4,
 "nbformat_minor": 0
}
